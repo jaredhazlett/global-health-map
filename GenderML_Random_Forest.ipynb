{
 "cells": [
  {
   "cell_type": "code",
   "execution_count": 28,
   "metadata": {},
   "outputs": [],
   "source": [
    "import pandas as pd\n",
    "from sklearn.ensemble import RandomForestClassifier"
   ]
  },
  {
   "cell_type": "code",
   "execution_count": 29,
   "metadata": {},
   "outputs": [
    {
     "data": {
      "text/html": [
       "<div>\n",
       "<style scoped>\n",
       "    .dataframe tbody tr th:only-of-type {\n",
       "        vertical-align: middle;\n",
       "    }\n",
       "\n",
       "    .dataframe tbody tr th {\n",
       "        vertical-align: top;\n",
       "    }\n",
       "\n",
       "    .dataframe thead th {\n",
       "        text-align: right;\n",
       "    }\n",
       "</style>\n",
       "<table border=\"1\" class=\"dataframe\">\n",
       "  <thead>\n",
       "    <tr style=\"text-align: right;\">\n",
       "      <th></th>\n",
       "      <th>Location</th>\n",
       "      <th>Period</th>\n",
       "      <th>Gender</th>\n",
       "      <th>Life_Expectancy</th>\n",
       "      <th>Healthy_Life_Expectancy</th>\n",
       "      <th>%Mrt30_70_crdo_cncr_dbts_rsprtry</th>\n",
       "      <th>Suicide100000</th>\n",
       "      <th>Ttl_alc_percapita_15+</th>\n",
       "      <th>Posioning100000</th>\n",
       "      <th>Smoking15+</th>\n",
       "    </tr>\n",
       "  </thead>\n",
       "  <tbody>\n",
       "    <tr>\n",
       "      <th>0</th>\n",
       "      <td>Albania</td>\n",
       "      <td>2015</td>\n",
       "      <td>Male</td>\n",
       "      <td>76.10</td>\n",
       "      <td>67.99</td>\n",
       "      <td>20.9</td>\n",
       "      <td>7.6</td>\n",
       "      <td>10.92</td>\n",
       "      <td>0.48</td>\n",
       "      <td>51.4</td>\n",
       "    </tr>\n",
       "    <tr>\n",
       "      <th>1</th>\n",
       "      <td>Albania</td>\n",
       "      <td>2015</td>\n",
       "      <td>Female</td>\n",
       "      <td>79.69</td>\n",
       "      <td>70.12</td>\n",
       "      <td>13.7</td>\n",
       "      <td>4.4</td>\n",
       "      <td>2.53</td>\n",
       "      <td>0.37</td>\n",
       "      <td>8.3</td>\n",
       "    </tr>\n",
       "    <tr>\n",
       "      <th>2</th>\n",
       "      <td>Albania</td>\n",
       "      <td>2010</td>\n",
       "      <td>Male</td>\n",
       "      <td>74.23</td>\n",
       "      <td>66.34</td>\n",
       "      <td>22.3</td>\n",
       "      <td>9.5</td>\n",
       "      <td>12.47</td>\n",
       "      <td>0.59</td>\n",
       "      <td>53.2</td>\n",
       "    </tr>\n",
       "    <tr>\n",
       "      <th>3</th>\n",
       "      <td>Albania</td>\n",
       "      <td>2010</td>\n",
       "      <td>Female</td>\n",
       "      <td>78.31</td>\n",
       "      <td>68.85</td>\n",
       "      <td>14.6</td>\n",
       "      <td>6.1</td>\n",
       "      <td>2.98</td>\n",
       "      <td>0.44</td>\n",
       "      <td>9.1</td>\n",
       "    </tr>\n",
       "    <tr>\n",
       "      <th>4</th>\n",
       "      <td>Albania</td>\n",
       "      <td>2000</td>\n",
       "      <td>Male</td>\n",
       "      <td>70.65</td>\n",
       "      <td>63.15</td>\n",
       "      <td>23.1</td>\n",
       "      <td>7.4</td>\n",
       "      <td>10.60</td>\n",
       "      <td>1.29</td>\n",
       "      <td>57.4</td>\n",
       "    </tr>\n",
       "  </tbody>\n",
       "</table>\n",
       "</div>"
      ],
      "text/plain": [
       "  Location  Period  Gender  Life_Expectancy  Healthy_Life_Expectancy  \\\n",
       "0  Albania    2015    Male            76.10                    67.99   \n",
       "1  Albania    2015  Female            79.69                    70.12   \n",
       "2  Albania    2010    Male            74.23                    66.34   \n",
       "3  Albania    2010  Female            78.31                    68.85   \n",
       "4  Albania    2000    Male            70.65                    63.15   \n",
       "\n",
       "   %Mrt30_70_crdo_cncr_dbts_rsprtry  Suicide100000  Ttl_alc_percapita_15+  \\\n",
       "0                              20.9            7.6                  10.92   \n",
       "1                              13.7            4.4                   2.53   \n",
       "2                              22.3            9.5                  12.47   \n",
       "3                              14.6            6.1                   2.98   \n",
       "4                              23.1            7.4                  10.60   \n",
       "\n",
       "   Posioning100000  Smoking15+  \n",
       "0             0.48        51.4  \n",
       "1             0.37         8.3  \n",
       "2             0.59        53.2  \n",
       "3             0.44         9.1  \n",
       "4             1.29        57.4  "
      ]
     },
     "execution_count": 29,
     "metadata": {},
     "output_type": "execute_result"
    }
   ],
   "source": [
    "df = pd.read_csv(\"/Users/jlh/global-health-map/data/separated_gender.csv\")\n",
    "df = df.drop(columns=['Unnamed: 0'])\n",
    "df.head()"
   ]
  },
  {
   "cell_type": "code",
   "execution_count": 30,
   "metadata": {},
   "outputs": [
    {
     "name": "stdout",
     "output_type": "stream",
     "text": [
      "(860, 7) (860,)\n"
     ]
    }
   ],
   "source": [
    "X = df.drop(columns=['Location', 'Period', 'Gender'])\n",
    "y = df[\"Gender\"]\n",
    "print(X.shape, y.shape)"
   ]
  },
  {
   "cell_type": "code",
   "execution_count": 31,
   "metadata": {},
   "outputs": [],
   "source": [
    "from sklearn.model_selection import train_test_split\n",
    "X_train, X_test, y_train, y_test = train_test_split(X, y, random_state=42)"
   ]
  },
  {
   "cell_type": "code",
   "execution_count": 32,
   "metadata": {},
   "outputs": [],
   "source": [
    "from sklearn.preprocessing import LabelEncoder\n",
    "\n",
    "# Step 1: Label-encode data set\n",
    "label_encoder = LabelEncoder()\n",
    "label_encoder.fit(y_train)\n",
    "label_encoder.fit(y_test)\n",
    "encoded_y_train = label_encoder.transform(y_train)\n",
    "encoded_y_test = label_encoder.transform(y_test)"
   ]
  },
  {
   "cell_type": "code",
   "execution_count": 33,
   "metadata": {},
   "outputs": [
    {
     "data": {
      "text/plain": [
       "array([[0., 1.],\n",
       "       [0., 1.],\n",
       "       [1., 0.],\n",
       "       ...,\n",
       "       [0., 1.],\n",
       "       [1., 0.],\n",
       "       [0., 1.]], dtype=float32)"
      ]
     },
     "execution_count": 33,
     "metadata": {},
     "output_type": "execute_result"
    }
   ],
   "source": [
    "from keras.utils import to_categorical\n",
    "\n",
    "# Step 2: One-hot encoding\n",
    "hot_y_train = to_categorical(encoded_y_train)\n",
    "hot_y_test = to_categorical(encoded_y_test)\n",
    "hot_y_train"
   ]
  },
  {
   "cell_type": "code",
   "execution_count": 34,
   "metadata": {},
   "outputs": [],
   "source": [
    "from sklearn.preprocessing import StandardScaler\n",
    "X_scaler = StandardScaler().fit(X_train)\n",
    "X_train_scaled = X_scaler.transform(X_train)\n",
    "X_test_scaled = X_scaler.transform(X_test)"
   ]
  },
  {
   "cell_type": "code",
   "execution_count": 35,
   "metadata": {},
   "outputs": [
    {
     "data": {
      "text/plain": [
       "0.9627906976744186"
      ]
     },
     "execution_count": 35,
     "metadata": {},
     "output_type": "execute_result"
    }
   ],
   "source": [
    "rf = RandomForestClassifier(n_estimators=150)\n",
    "rf = rf.fit(X_train, hot_y_train)\n",
    "rf.score(X_test, hot_y_test)"
   ]
  },
  {
   "cell_type": "code",
   "execution_count": 36,
   "metadata": {},
   "outputs": [],
   "source": [
    "feature_names = X.columns"
   ]
  },
  {
   "cell_type": "code",
   "execution_count": 37,
   "metadata": {},
   "outputs": [
    {
     "data": {
      "text/plain": [
       "[(0.2901248060091213, 'Smoking15+'),\n",
       " (0.26051598199584186, 'Ttl_alc_percapita_15+'),\n",
       " (0.12761130343458044, 'Suicide100000'),\n",
       " (0.10914567967546203, 'Life_Expectancy'),\n",
       " (0.0846026196594382, '%Mrt30_70_crdo_cncr_dbts_rsprtry'),\n",
       " (0.06414910394545865, 'Healthy_Life_Expectancy'),\n",
       " (0.0638505052800975, 'Posioning100000')]"
      ]
     },
     "execution_count": 37,
     "metadata": {},
     "output_type": "execute_result"
    }
   ],
   "source": [
    "sorted(zip(rf.feature_importances_, feature_names), reverse=True)"
   ]
  },
  {
   "cell_type": "code",
   "execution_count": 38,
   "metadata": {},
   "outputs": [
    {
     "name": "stdout",
     "output_type": "stream",
     "text": [
      "{'max_features': 'sqrt', 'n_estimators': 150}\n",
      "0.9348837209302326\n"
     ]
    }
   ],
   "source": [
    "from sklearn.model_selection import GridSearchCV\n",
    "param_grid = {\n",
    "    'n_estimators': [75, 100, 30, 150],\n",
    "    'max_features': ['auto', 'sqrt', 'log2']\n",
    "}\n",
    "CV_rf = GridSearchCV(estimator=rf, param_grid=param_grid, cv=5)\n",
    "CV_rf.fit(X_train, hot_y_train)\n",
    "print(CV_rf.best_params_)\n",
    "print(CV_rf.best_score_)"
   ]
  },
  {
   "cell_type": "code",
   "execution_count": 39,
   "metadata": {},
   "outputs": [],
   "source": [
    "predictions = CV_rf.predict(X_test)"
   ]
  },
  {
   "cell_type": "code",
   "execution_count": 40,
   "metadata": {},
   "outputs": [
    {
     "data": {
      "text/plain": [
       "0.9674418604651163"
      ]
     },
     "execution_count": 40,
     "metadata": {},
     "output_type": "execute_result"
    }
   ],
   "source": [
    "CV_rf.score(X_test, hot_y_test)"
   ]
  },
  {
   "cell_type": "code",
   "execution_count": null,
   "metadata": {},
   "outputs": [],
   "source": []
  }
 ],
 "metadata": {
  "kernelspec": {
   "display_name": "Python 3",
   "language": "python",
   "name": "python3"
  },
  "language_info": {
   "codemirror_mode": {
    "name": "ipython",
    "version": 3
   },
   "file_extension": ".py",
   "mimetype": "text/x-python",
   "name": "python",
   "nbconvert_exporter": "python",
   "pygments_lexer": "ipython3",
   "version": "3.8.3"
  }
 },
 "nbformat": 4,
 "nbformat_minor": 4
}
