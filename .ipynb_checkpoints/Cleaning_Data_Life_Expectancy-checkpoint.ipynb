{
 "cells": [
  {
   "cell_type": "code",
   "execution_count": 1,
   "metadata": {},
   "outputs": [],
   "source": [
    "#import dependencies\n",
    "import pandas as pd"
   ]
  },
  {
   "cell_type": "code",
   "execution_count": 24,
   "metadata": {},
   "outputs": [
    {
     "data": {
      "text/html": [
       "<div>\n",
       "<style scoped>\n",
       "    .dataframe tbody tr th:only-of-type {\n",
       "        vertical-align: middle;\n",
       "    }\n",
       "\n",
       "    .dataframe tbody tr th {\n",
       "        vertical-align: top;\n",
       "    }\n",
       "\n",
       "    .dataframe thead th {\n",
       "        text-align: right;\n",
       "    }\n",
       "</style>\n",
       "<table border=\"1\" class=\"dataframe\">\n",
       "  <thead>\n",
       "    <tr style=\"text-align: right;\">\n",
       "      <th></th>\n",
       "      <th>Location</th>\n",
       "      <th>Period</th>\n",
       "      <th>Indicator</th>\n",
       "      <th>Dim1</th>\n",
       "      <th>First_Tooltip</th>\n",
       "    </tr>\n",
       "  </thead>\n",
       "  <tbody>\n",
       "    <tr>\n",
       "      <th>0</th>\n",
       "      <td>Afghanistan</td>\n",
       "      <td>2019</td>\n",
       "      <td>Life expectancy at birth (years)</td>\n",
       "      <td>Both sexes</td>\n",
       "      <td>63.21</td>\n",
       "    </tr>\n",
       "    <tr>\n",
       "      <th>1</th>\n",
       "      <td>Afghanistan</td>\n",
       "      <td>2019</td>\n",
       "      <td>Life expectancy at birth (years)</td>\n",
       "      <td>Male</td>\n",
       "      <td>63.29</td>\n",
       "    </tr>\n",
       "    <tr>\n",
       "      <th>2</th>\n",
       "      <td>Afghanistan</td>\n",
       "      <td>2019</td>\n",
       "      <td>Life expectancy at birth (years)</td>\n",
       "      <td>Female</td>\n",
       "      <td>63.16</td>\n",
       "    </tr>\n",
       "    <tr>\n",
       "      <th>3</th>\n",
       "      <td>Afghanistan</td>\n",
       "      <td>2015</td>\n",
       "      <td>Life expectancy at birth (years)</td>\n",
       "      <td>Both sexes</td>\n",
       "      <td>61.65</td>\n",
       "    </tr>\n",
       "    <tr>\n",
       "      <th>4</th>\n",
       "      <td>Afghanistan</td>\n",
       "      <td>2015</td>\n",
       "      <td>Life expectancy at birth (years)</td>\n",
       "      <td>Male</td>\n",
       "      <td>61.04</td>\n",
       "    </tr>\n",
       "  </tbody>\n",
       "</table>\n",
       "</div>"
      ],
      "text/plain": [
       "      Location  Period                         Indicator        Dim1  \\\n",
       "0  Afghanistan    2019  Life expectancy at birth (years)  Both sexes   \n",
       "1  Afghanistan    2019  Life expectancy at birth (years)        Male   \n",
       "2  Afghanistan    2019  Life expectancy at birth (years)      Female   \n",
       "3  Afghanistan    2015  Life expectancy at birth (years)  Both sexes   \n",
       "4  Afghanistan    2015  Life expectancy at birth (years)        Male   \n",
       "\n",
       "   First_Tooltip  \n",
       "0          63.21  \n",
       "1          63.29  \n",
       "2          63.16  \n",
       "3          61.65  \n",
       "4          61.04  "
      ]
     },
     "execution_count": 24,
     "metadata": {},
     "output_type": "execute_result"
    }
   ],
   "source": [
    "#read our csvs\n",
    "df = pd.read_csv(\"/Users/jlh/global-health-map/raw_data/lifeExpectancyAtBirth.csv\")\n",
    "dfHale = pd.read_csv(\"/Users/jlh/global-health-map/raw_data/HALElifeExpectancyAtBirth.csv\")\n",
    "df.head()"
   ]
  },
  {
   "cell_type": "code",
   "execution_count": 26,
   "metadata": {},
   "outputs": [
    {
     "data": {
      "text/plain": [
       "Ethiopia              12\n",
       "Tunisia               12\n",
       "Malawi                12\n",
       "Kazakhstan            12\n",
       "Finland               12\n",
       "                      ..\n",
       "Italy                 12\n",
       "Iceland               12\n",
       "Iraq                  12\n",
       "Sudan (until 2011)     6\n",
       "Sudan                  6\n",
       "Name: Location, Length: 184, dtype: int64"
      ]
     },
     "execution_count": 26,
     "metadata": {},
     "output_type": "execute_result"
    }
   ],
   "source": [
    "#check the value counts. one of these data frames has more entries than the other. perhaps a typo? wrong entry?\n",
    "df[\"Location\"].value_counts()"
   ]
  },
  {
   "cell_type": "code",
   "execution_count": 27,
   "metadata": {},
   "outputs": [
    {
     "data": {
      "text/plain": [
       "Ethiopia              12\n",
       "Tunisia               12\n",
       "Malawi                12\n",
       "Kazakhstan            12\n",
       "Finland               12\n",
       "                      ..\n",
       "Italy                 12\n",
       "Iceland               12\n",
       "Iraq                  12\n",
       "Sudan (until 2011)     6\n",
       "Sudan                  6\n",
       "Name: Location, Length: 184, dtype: int64"
      ]
     },
     "execution_count": 27,
     "metadata": {},
     "output_type": "execute_result"
    }
   ],
   "source": [
    "#compare this dataframe to the other. prior to cleaning, we found that canada had an entry from 1920. delete it.\n",
    "dfHale[\"Location\"].value_counts()"
   ]
  },
  {
   "cell_type": "code",
   "execution_count": 29,
   "metadata": {},
   "outputs": [
    {
     "data": {
      "text/html": [
       "<div>\n",
       "<style scoped>\n",
       "    .dataframe tbody tr th:only-of-type {\n",
       "        vertical-align: middle;\n",
       "    }\n",
       "\n",
       "    .dataframe tbody tr th {\n",
       "        vertical-align: top;\n",
       "    }\n",
       "\n",
       "    .dataframe thead th {\n",
       "        text-align: right;\n",
       "    }\n",
       "</style>\n",
       "<table border=\"1\" class=\"dataframe\">\n",
       "  <thead>\n",
       "    <tr style=\"text-align: right;\">\n",
       "      <th></th>\n",
       "      <th>location</th>\n",
       "      <th>period</th>\n",
       "      <th>gender</th>\n",
       "      <th>life_expectancy</th>\n",
       "      <th>healthy_life_expectancy</th>\n",
       "    </tr>\n",
       "  </thead>\n",
       "  <tbody>\n",
       "    <tr>\n",
       "      <th>0</th>\n",
       "      <td>Afghanistan</td>\n",
       "      <td>2019</td>\n",
       "      <td>Both sexes</td>\n",
       "      <td>63.21</td>\n",
       "      <td>53.95</td>\n",
       "    </tr>\n",
       "    <tr>\n",
       "      <th>1</th>\n",
       "      <td>Afghanistan</td>\n",
       "      <td>2019</td>\n",
       "      <td>Male</td>\n",
       "      <td>63.29</td>\n",
       "      <td>54.73</td>\n",
       "    </tr>\n",
       "    <tr>\n",
       "      <th>2</th>\n",
       "      <td>Afghanistan</td>\n",
       "      <td>2019</td>\n",
       "      <td>Female</td>\n",
       "      <td>63.16</td>\n",
       "      <td>53.15</td>\n",
       "    </tr>\n",
       "    <tr>\n",
       "      <th>3</th>\n",
       "      <td>Afghanistan</td>\n",
       "      <td>2015</td>\n",
       "      <td>Both sexes</td>\n",
       "      <td>61.65</td>\n",
       "      <td>52.60</td>\n",
       "    </tr>\n",
       "    <tr>\n",
       "      <th>4</th>\n",
       "      <td>Afghanistan</td>\n",
       "      <td>2015</td>\n",
       "      <td>Male</td>\n",
       "      <td>61.04</td>\n",
       "      <td>52.78</td>\n",
       "    </tr>\n",
       "    <tr>\n",
       "      <th>...</th>\n",
       "      <td>...</td>\n",
       "      <td>...</td>\n",
       "      <td>...</td>\n",
       "      <td>...</td>\n",
       "      <td>...</td>\n",
       "    </tr>\n",
       "    <tr>\n",
       "      <th>2191</th>\n",
       "      <td>Zimbabwe</td>\n",
       "      <td>2010</td>\n",
       "      <td>Male</td>\n",
       "      <td>49.58</td>\n",
       "      <td>44.25</td>\n",
       "    </tr>\n",
       "    <tr>\n",
       "      <th>2192</th>\n",
       "      <td>Zimbabwe</td>\n",
       "      <td>2010</td>\n",
       "      <td>Female</td>\n",
       "      <td>53.21</td>\n",
       "      <td>46.12</td>\n",
       "    </tr>\n",
       "    <tr>\n",
       "      <th>2193</th>\n",
       "      <td>Zimbabwe</td>\n",
       "      <td>2000</td>\n",
       "      <td>Both sexes</td>\n",
       "      <td>46.57</td>\n",
       "      <td>41.03</td>\n",
       "    </tr>\n",
       "    <tr>\n",
       "      <th>2194</th>\n",
       "      <td>Zimbabwe</td>\n",
       "      <td>2000</td>\n",
       "      <td>Male</td>\n",
       "      <td>45.15</td>\n",
       "      <td>40.39</td>\n",
       "    </tr>\n",
       "    <tr>\n",
       "      <th>2195</th>\n",
       "      <td>Zimbabwe</td>\n",
       "      <td>2000</td>\n",
       "      <td>Female</td>\n",
       "      <td>48.12</td>\n",
       "      <td>41.77</td>\n",
       "    </tr>\n",
       "  </tbody>\n",
       "</table>\n",
       "<p>2196 rows × 5 columns</p>\n",
       "</div>"
      ],
      "text/plain": [
       "         location  period      gender  life_expectancy  \\\n",
       "0     Afghanistan    2019  Both sexes            63.21   \n",
       "1     Afghanistan    2019        Male            63.29   \n",
       "2     Afghanistan    2019      Female            63.16   \n",
       "3     Afghanistan    2015  Both sexes            61.65   \n",
       "4     Afghanistan    2015        Male            61.04   \n",
       "...           ...     ...         ...              ...   \n",
       "2191     Zimbabwe    2010        Male            49.58   \n",
       "2192     Zimbabwe    2010      Female            53.21   \n",
       "2193     Zimbabwe    2000  Both sexes            46.57   \n",
       "2194     Zimbabwe    2000        Male            45.15   \n",
       "2195     Zimbabwe    2000      Female            48.12   \n",
       "\n",
       "      healthy_life_expectancy  \n",
       "0                       53.95  \n",
       "1                       54.73  \n",
       "2                       53.15  \n",
       "3                       52.60  \n",
       "4                       52.78  \n",
       "...                       ...  \n",
       "2191                    44.25  \n",
       "2192                    46.12  \n",
       "2193                    41.03  \n",
       "2194                    40.39  \n",
       "2195                    41.77  \n",
       "\n",
       "[2196 rows x 5 columns]"
      ]
     },
     "execution_count": 29,
     "metadata": {},
     "output_type": "execute_result"
    }
   ],
   "source": [
    "#we used pgAdmin and postgreSQL to create this csv. this is easier done using pandas. \n",
    "df_combined = pd.read_csv(\"/Users/jlh/global-health-map/data/combined_life_expectancy.csv\")\n",
    "df_combined"
   ]
  },
  {
   "cell_type": "code",
   "execution_count": 43,
   "metadata": {},
   "outputs": [
    {
     "data": {
      "text/html": [
       "<div>\n",
       "<style scoped>\n",
       "    .dataframe tbody tr th:only-of-type {\n",
       "        vertical-align: middle;\n",
       "    }\n",
       "\n",
       "    .dataframe tbody tr th {\n",
       "        vertical-align: top;\n",
       "    }\n",
       "\n",
       "    .dataframe thead th {\n",
       "        text-align: right;\n",
       "    }\n",
       "</style>\n",
       "<table border=\"1\" class=\"dataframe\">\n",
       "  <thead>\n",
       "    <tr style=\"text-align: right;\">\n",
       "      <th></th>\n",
       "      <th>location</th>\n",
       "      <th>period</th>\n",
       "      <th>gender</th>\n",
       "      <th>life_expectancy</th>\n",
       "      <th>healthy_life_expectancy</th>\n",
       "    </tr>\n",
       "  </thead>\n",
       "  <tbody>\n",
       "    <tr>\n",
       "      <th>1</th>\n",
       "      <td>Afghanistan</td>\n",
       "      <td>2019</td>\n",
       "      <td>Male</td>\n",
       "      <td>63.29</td>\n",
       "      <td>54.73</td>\n",
       "    </tr>\n",
       "    <tr>\n",
       "      <th>2</th>\n",
       "      <td>Afghanistan</td>\n",
       "      <td>2019</td>\n",
       "      <td>Female</td>\n",
       "      <td>63.16</td>\n",
       "      <td>53.15</td>\n",
       "    </tr>\n",
       "    <tr>\n",
       "      <th>4</th>\n",
       "      <td>Afghanistan</td>\n",
       "      <td>2015</td>\n",
       "      <td>Male</td>\n",
       "      <td>61.04</td>\n",
       "      <td>52.78</td>\n",
       "    </tr>\n",
       "    <tr>\n",
       "      <th>5</th>\n",
       "      <td>Afghanistan</td>\n",
       "      <td>2015</td>\n",
       "      <td>Female</td>\n",
       "      <td>62.35</td>\n",
       "      <td>52.44</td>\n",
       "    </tr>\n",
       "    <tr>\n",
       "      <th>7</th>\n",
       "      <td>Afghanistan</td>\n",
       "      <td>2010</td>\n",
       "      <td>Male</td>\n",
       "      <td>59.60</td>\n",
       "      <td>51.51</td>\n",
       "    </tr>\n",
       "    <tr>\n",
       "      <th>...</th>\n",
       "      <td>...</td>\n",
       "      <td>...</td>\n",
       "      <td>...</td>\n",
       "      <td>...</td>\n",
       "      <td>...</td>\n",
       "    </tr>\n",
       "    <tr>\n",
       "      <th>2189</th>\n",
       "      <td>Zimbabwe</td>\n",
       "      <td>2015</td>\n",
       "      <td>Female</td>\n",
       "      <td>60.96</td>\n",
       "      <td>52.59</td>\n",
       "    </tr>\n",
       "    <tr>\n",
       "      <th>2191</th>\n",
       "      <td>Zimbabwe</td>\n",
       "      <td>2010</td>\n",
       "      <td>Male</td>\n",
       "      <td>49.58</td>\n",
       "      <td>44.25</td>\n",
       "    </tr>\n",
       "    <tr>\n",
       "      <th>2192</th>\n",
       "      <td>Zimbabwe</td>\n",
       "      <td>2010</td>\n",
       "      <td>Female</td>\n",
       "      <td>53.21</td>\n",
       "      <td>46.12</td>\n",
       "    </tr>\n",
       "    <tr>\n",
       "      <th>2194</th>\n",
       "      <td>Zimbabwe</td>\n",
       "      <td>2000</td>\n",
       "      <td>Male</td>\n",
       "      <td>45.15</td>\n",
       "      <td>40.39</td>\n",
       "    </tr>\n",
       "    <tr>\n",
       "      <th>2195</th>\n",
       "      <td>Zimbabwe</td>\n",
       "      <td>2000</td>\n",
       "      <td>Female</td>\n",
       "      <td>48.12</td>\n",
       "      <td>41.77</td>\n",
       "    </tr>\n",
       "  </tbody>\n",
       "</table>\n",
       "<p>1464 rows × 5 columns</p>\n",
       "</div>"
      ],
      "text/plain": [
       "         location  period  gender  life_expectancy  healthy_life_expectancy\n",
       "1     Afghanistan    2019    Male            63.29                    54.73\n",
       "2     Afghanistan    2019  Female            63.16                    53.15\n",
       "4     Afghanistan    2015    Male            61.04                    52.78\n",
       "5     Afghanistan    2015  Female            62.35                    52.44\n",
       "7     Afghanistan    2010    Male            59.60                    51.51\n",
       "...           ...     ...     ...              ...                      ...\n",
       "2189     Zimbabwe    2015  Female            60.96                    52.59\n",
       "2191     Zimbabwe    2010    Male            49.58                    44.25\n",
       "2192     Zimbabwe    2010  Female            53.21                    46.12\n",
       "2194     Zimbabwe    2000    Male            45.15                    40.39\n",
       "2195     Zimbabwe    2000  Female            48.12                    41.77\n",
       "\n",
       "[1464 rows x 5 columns]"
      ]
     },
     "execution_count": 43,
     "metadata": {},
     "output_type": "execute_result"
    }
   ],
   "source": [
    "#create a csv with gendered expectancies\n",
    "df_gender_separated = df_combined.loc[df_combined[\"gender\"] != \"Both sexes\"]\n",
    "df_gender_separated"
   ]
  },
  {
   "cell_type": "code",
   "execution_count": 42,
   "metadata": {},
   "outputs": [],
   "source": [
    "#import more dependencies. \n",
    "import matplotlib.pyplot as plt"
   ]
  },
  {
   "cell_type": "code",
   "execution_count": 50,
   "metadata": {},
   "outputs": [
    {
     "data": {
      "image/png": "[encoded data removed]",
      "text/plain": [
       "<Figure size 432x288 with 1 Axes>"
      ]
     },
     "metadata": {
      "needs_background": "light"
     },
     "output_type": "display_data"
    }
   ],
   "source": [
    "#using matplotlib to plot female v. male life expectancy\n",
    "df_male = df_gender_separated.loc[df_gender_separated[\"gender\"] == \"Male\"]\n",
    "df_female = df_gender_separated.loc[df_gender_separated[\"gender\"] == \"Female\"]\n",
    "df_male\n",
    "df_female\n",
    "plt.scatter(df_male[\"life_expectancy\"], df_female[\"life_expectancy\"])\n",
    "plt.ylabel(\"female life expectancy\")\n",
    "plt.xlabel(\"male life expectancy\")\n",
    "plt.title(\"female v. male life expectancy\");"
   ]
  },
  {
   "cell_type": "code",
   "execution_count": 52,
   "metadata": {},
   "outputs": [],
   "source": [
    "#import statistics\n",
    "import numpy as np\n",
    "import scipy.stats as st\n",
    "from scipy import stats"
   ]
  },
  {
   "cell_type": "code",
   "execution_count": 54,
   "metadata": {},
   "outputs": [
    {
     "name": "stdout",
     "output_type": "stream",
     "text": [
      "The correlation between both factors is 0.97\n"
     ]
    }
   ],
   "source": [
    "#use scipy.stats to calculate correlation. .97 is an incredibly high correlation.\n",
    "correlation = st.pearsonr(df_male[\"life_expectancy\"], df_female[\"life_expectancy\"])\n",
    "print(f\"The correlation between both factors is {round(correlation[0],2)}\")"
   ]
  },
  {
   "cell_type": "code",
   "execution_count": 55,
   "metadata": {},
   "outputs": [],
   "source": [
    "#begin to create a regression line. \n",
    "(slope, intercept, rvalue, pvalue, stderr) = stats.linregress(df_male[\"life_expectancy\"], df_female[\"life_expectancy\"])"
   ]
  },
  {
   "cell_type": "code",
   "execution_count": 60,
   "metadata": {},
   "outputs": [
    {
     "name": "stdout",
     "output_type": "stream",
     "text": [
      "the r-squared is: 0.9414193557814184\n",
      "y = 1.0x + 4.66\n"
     ]
    },
    {
     "data": {
      "image/png": "[encoded data removed]",
      "text/plain": [
       "<Figure size 432x288 with 1 Axes>"
      ]
     },
     "metadata": {
      "needs_background": "light"
     },
     "output_type": "display_data"
    }
   ],
   "source": [
    "#regression line and matplotlib to plot it on top of our data.\n",
    "regress_values = df_male[\"life_expectancy\"] * slope + intercept\n",
    "#create a line\n",
    "line_eq = \"y = \" + str(round(slope,2)) + \"x + \" + str(round(intercept,2))\n",
    "x = df_male[\"life_expectancy\"]\n",
    "y = df_female[\"life_expectancy\"]\n",
    "#create the scatterplot\n",
    "plt.scatter(x, y, color=\"r\")\n",
    "#create the line\n",
    "plt.plot(x, regress_values, \"--\", color='b')\n",
    "print(f\"the r-squared is: {rvalue**2}\")\n",
    "#annotate - atm missing. oops!\n",
    "plt.annotate(line_eq,(0,0), fontsize=15, color='r')\n",
    "print(line_eq)\n",
    "plt.show()"
   ]
  },
  {
   "cell_type": "code",
   "execution_count": null,
   "metadata": {},
   "outputs": [],
   "source": []
  },
  {
   "cell_type": "code",
   "execution_count": null,
   "metadata": {},
   "outputs": [],
   "source": []
  }
 ],
 "metadata": {
  "kernelspec": {
   "display_name": "Python 3",
   "language": "python",
   "name": "python3"
  },
  "language_info": {
   "codemirror_mode": {
    "name": "ipython",
    "version": 3
   },
   "file_extension": ".py",
   "mimetype": "text/x-python",
   "name": "python",
   "nbconvert_exporter": "python",
   "pygments_lexer": "ipython3",
   "version": "3.8.3"
  }
 },
 "nbformat": 4,
 "nbformat_minor": 4
}
