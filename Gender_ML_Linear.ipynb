{
 "cells": [
  {
   "cell_type": "code",
   "execution_count": 25,
   "metadata": {},
   "outputs": [],
   "source": [
    "import pandas as pd\n",
    "import matplotlib.pyplot as plt"
   ]
  },
  {
   "cell_type": "code",
   "execution_count": 2,
   "metadata": {},
   "outputs": [
    {
     "data": {
      "text/html": [
       "<div>\n",
       "<style scoped>\n",
       "    .dataframe tbody tr th:only-of-type {\n",
       "        vertical-align: middle;\n",
       "    }\n",
       "\n",
       "    .dataframe tbody tr th {\n",
       "        vertical-align: top;\n",
       "    }\n",
       "\n",
       "    .dataframe thead th {\n",
       "        text-align: right;\n",
       "    }\n",
       "</style>\n",
       "<table border=\"1\" class=\"dataframe\">\n",
       "  <thead>\n",
       "    <tr style=\"text-align: right;\">\n",
       "      <th></th>\n",
       "      <th>Location</th>\n",
       "      <th>Period</th>\n",
       "      <th>Gender</th>\n",
       "      <th>Life_Expectancy</th>\n",
       "      <th>Healthy_Life_Expectancy</th>\n",
       "      <th>%Mrt30_70_crdo_cncr_dbts_rsprtry</th>\n",
       "      <th>Suicide100000</th>\n",
       "      <th>Ttl_alc_percapita_15+</th>\n",
       "      <th>Posioning100000</th>\n",
       "      <th>Smoking15+</th>\n",
       "    </tr>\n",
       "  </thead>\n",
       "  <tbody>\n",
       "    <tr>\n",
       "      <th>0</th>\n",
       "      <td>Albania</td>\n",
       "      <td>2015</td>\n",
       "      <td>Male</td>\n",
       "      <td>76.10</td>\n",
       "      <td>67.99</td>\n",
       "      <td>20.9</td>\n",
       "      <td>7.6</td>\n",
       "      <td>10.92</td>\n",
       "      <td>0.48</td>\n",
       "      <td>51.4</td>\n",
       "    </tr>\n",
       "    <tr>\n",
       "      <th>1</th>\n",
       "      <td>Albania</td>\n",
       "      <td>2015</td>\n",
       "      <td>Female</td>\n",
       "      <td>79.69</td>\n",
       "      <td>70.12</td>\n",
       "      <td>13.7</td>\n",
       "      <td>4.4</td>\n",
       "      <td>2.53</td>\n",
       "      <td>0.37</td>\n",
       "      <td>8.3</td>\n",
       "    </tr>\n",
       "    <tr>\n",
       "      <th>2</th>\n",
       "      <td>Albania</td>\n",
       "      <td>2010</td>\n",
       "      <td>Male</td>\n",
       "      <td>74.23</td>\n",
       "      <td>66.34</td>\n",
       "      <td>22.3</td>\n",
       "      <td>9.5</td>\n",
       "      <td>12.47</td>\n",
       "      <td>0.59</td>\n",
       "      <td>53.2</td>\n",
       "    </tr>\n",
       "    <tr>\n",
       "      <th>3</th>\n",
       "      <td>Albania</td>\n",
       "      <td>2010</td>\n",
       "      <td>Female</td>\n",
       "      <td>78.31</td>\n",
       "      <td>68.85</td>\n",
       "      <td>14.6</td>\n",
       "      <td>6.1</td>\n",
       "      <td>2.98</td>\n",
       "      <td>0.44</td>\n",
       "      <td>9.1</td>\n",
       "    </tr>\n",
       "    <tr>\n",
       "      <th>4</th>\n",
       "      <td>Albania</td>\n",
       "      <td>2000</td>\n",
       "      <td>Male</td>\n",
       "      <td>70.65</td>\n",
       "      <td>63.15</td>\n",
       "      <td>23.1</td>\n",
       "      <td>7.4</td>\n",
       "      <td>10.60</td>\n",
       "      <td>1.29</td>\n",
       "      <td>57.4</td>\n",
       "    </tr>\n",
       "  </tbody>\n",
       "</table>\n",
       "</div>"
      ],
      "text/plain": [
       "  Location  Period  Gender  Life_Expectancy  Healthy_Life_Expectancy  \\\n",
       "0  Albania    2015    Male            76.10                    67.99   \n",
       "1  Albania    2015  Female            79.69                    70.12   \n",
       "2  Albania    2010    Male            74.23                    66.34   \n",
       "3  Albania    2010  Female            78.31                    68.85   \n",
       "4  Albania    2000    Male            70.65                    63.15   \n",
       "\n",
       "   %Mrt30_70_crdo_cncr_dbts_rsprtry  Suicide100000  Ttl_alc_percapita_15+  \\\n",
       "0                              20.9            7.6                  10.92   \n",
       "1                              13.7            4.4                   2.53   \n",
       "2                              22.3            9.5                  12.47   \n",
       "3                              14.6            6.1                   2.98   \n",
       "4                              23.1            7.4                  10.60   \n",
       "\n",
       "   Posioning100000  Smoking15+  \n",
       "0             0.48        51.4  \n",
       "1             0.37         8.3  \n",
       "2             0.59        53.2  \n",
       "3             0.44         9.1  \n",
       "4             1.29        57.4  "
      ]
     },
     "execution_count": 2,
     "metadata": {},
     "output_type": "execute_result"
    }
   ],
   "source": [
    "df = pd.read_csv(\"/Users/jlh/global-health-map/data/separated_gender.csv\")\n",
    "df = df.drop(columns=['Unnamed: 0'])\n",
    "df.head()"
   ]
  },
  {
   "cell_type": "code",
   "execution_count": 18,
   "metadata": {},
   "outputs": [
    {
     "name": "stdout",
     "output_type": "stream",
     "text": [
      "(860, 7) (860,)\n"
     ]
    }
   ],
   "source": [
    "X = df.drop(columns=['Location', 'Period', 'Gender'])\n",
    "y = df[\"Gender\"]\n",
    "print(X.shape, y.shape)"
   ]
  },
  {
   "cell_type": "code",
   "execution_count": 19,
   "metadata": {},
   "outputs": [],
   "source": [
    "from sklearn.model_selection import train_test_split\n",
    "X_train, X_test, y_train, y_test = train_test_split(X, y, random_state=42)"
   ]
  },
  {
   "cell_type": "code",
   "execution_count": 20,
   "metadata": {},
   "outputs": [],
   "source": [
    "from sklearn.preprocessing import LabelEncoder\n",
    "\n",
    "# Step 1: Label-encode data set\n",
    "label_encoder = LabelEncoder()\n",
    "label_encoder.fit(y_train)\n",
    "label_encoder.fit(y_test)\n",
    "encoded_y_train = label_encoder.transform(y_train)\n",
    "encoded_y_test = label_encoder.transform(y_test)"
   ]
  },
  {
   "cell_type": "code",
   "execution_count": 21,
   "metadata": {},
   "outputs": [
    {
     "data": {
      "text/plain": [
       "array([[0., 1.],\n",
       "       [0., 1.],\n",
       "       [1., 0.],\n",
       "       ...,\n",
       "       [0., 1.],\n",
       "       [1., 0.],\n",
       "       [0., 1.]], dtype=float32)"
      ]
     },
     "execution_count": 21,
     "metadata": {},
     "output_type": "execute_result"
    }
   ],
   "source": [
    "from keras.utils import to_categorical\n",
    "\n",
    "# Step 2: One-hot encoding\n",
    "hot_y_train = to_categorical(encoded_y_train)\n",
    "hot_y_test = to_categorical(encoded_y_test)\n",
    "hot_y_train"
   ]
  },
  {
   "cell_type": "code",
   "execution_count": 22,
   "metadata": {},
   "outputs": [],
   "source": [
    "from sklearn.linear_model import LinearRegression\n",
    "model = LinearRegression()"
   ]
  },
  {
   "cell_type": "code",
   "execution_count": 23,
   "metadata": {},
   "outputs": [
    {
     "name": "stdout",
     "output_type": "stream",
     "text": [
      "Training Score: 0.7494672582612603\n",
      "Testing Score: 0.7764389655318175\n"
     ]
    }
   ],
   "source": [
    "model.fit(X_train, hot_y_train)\n",
    "training_score = model.score(X_train, hot_y_train)\n",
    "testing_score = model.score(X_test, hot_y_test)\n",
    "\n",
    "print(f\"Training Score: {training_score}\")\n",
    "print(f\"Testing Score: {testing_score}\")"
   ]
  },
  {
   "cell_type": "code",
   "execution_count": 27,
   "metadata": {},
   "outputs": [
    {
     "data": {
      "text/plain": [
       "Text(0.5, 1.0, 'Residual Plot')"
      ]
     },
     "execution_count": 27,
     "metadata": {},
     "output_type": "execute_result"
    },
    {
     "data": {
      "image/png": "[encoded data removed]",
      "text/plain": [
       "<Figure size 432x288 with 1 Axes>"
      ]
     },
     "metadata": {
      "needs_background": "light"
     },
     "output_type": "display_data"
    }
   ],
   "source": [
    "plt.scatter(model.predict(X_train), model.predict(X_train) - hot_y_train, c=\"blue\", label=\"Training Data\")\n",
    "plt.scatter(model.predict(X_test), model.predict(X_test) - hot_y_test, c=\"orange\", label=\"Testing Data\")\n",
    "plt.legend()\n",
    "plt.hlines(y=0, xmin=y.min(), xmax=y.max())\n",
    "plt.title(\"Residual Plot\")"
   ]
  },
  {
   "cell_type": "code",
   "execution_count": null,
   "metadata": {},
   "outputs": [],
   "source": [
    "#This is not right - abandon"
   ]
  }
 ],
 "metadata": {
  "kernelspec": {
   "display_name": "Python 3",
   "language": "python",
   "name": "python3"
  },
  "language_info": {
   "codemirror_mode": {
    "name": "ipython",
    "version": 3
   },
   "file_extension": ".py",
   "mimetype": "text/x-python",
   "name": "python",
   "nbconvert_exporter": "python",
   "pygments_lexer": "ipython3",
   "version": "3.8.3"
  }
 },
 "nbformat": 4,
 "nbformat_minor": 4
}
